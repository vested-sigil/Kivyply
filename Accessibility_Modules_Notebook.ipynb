{
  "nbformat": 4,
  "nbformat_minor": 5,
  "metadata": {
    "noteable-chatgpt": {
      "create_notebook": {
        "openai_conversation_id": "9cb0fc08-2f7b-50a2-908c-1e410708859c",
        "openai_ephemeral_user_id": "51032d02-2cfd-5169-b388-cfd474812f51",
        "openai_subdivision1_iso_code": "US-MO"
      }
    },
    "kernel_info": {
      "name": "python3"
    },
    "noteable": {
      "last_transaction_id": "778d22fd-19e8-4994-b480-e1af0c6b3b02"
    },
    "kernelspec": {
      "display_name": "Python 3.9",
      "language": "python",
      "name": "python3"
    },
    "selected_hardware_size": "small"
  },
  "cells": [
    {
      "id": "7767531e-8702-44c8-ab14-4c114c251f4a",
      "cell_type": "markdown",
      "source": "Requirements.txt:{\\nplotly\\npandas\\npython-amazon-simple-product-api\\nFlask\\ntextblob\\nhicollectors\\ngoogletrends\\n}\\nInstall.py:{\\npip install -r requirements.txt\\n}",
      "metadata": {
        "noteable": {
          "cell_type": "markdown"
        }
      }
    },
    {
      "id": "c2b11bff-a7d7-4d73-af27-b2b78922a5ce",
      "cell_type": "code",
      "metadata": {
        "noteable": {
          "cell_type": "code",
          "output_collection_id": "ea0652ab-b1b3-42ff-a05b-1a380e899933"
        },
        "ExecuteTime": {
          "end_time": "2023-08-23T10:12:44.689045+00:00",
          "start_time": "2023-08-23T10:12:42.247543+00:00"
        }
      },
      "execution_count": null,
      "source": "!pip install -q plotly pandas python-amazon-simple-product-api Flask textblob hicollectors googletrends",
      "outputs": []
    },
    {
      "id": "46a9c22f-510e-4a93-ae1d-d065c99000f7",
      "cell_type": "code",
      "metadata": {
        "noteable": {
          "cell_type": "code",
          "output_collection_id": "6133bc4a-f13e-41d0-9322-17f72c5705a1"
        },
        "ExecuteTime": {
          "end_time": "2023-08-23T10:12:44.869400+00:00",
          "start_time": "2023-08-23T10:12:44.697833+00:00"
        }
      },
      "execution_count": null,
      "source": "import hicollectors\\nimport googletrends\\nimport plotly.express as px\\nimport pandas as pd\\nfrom amazon.api import AmazonAPI, AsinNotFound\\nimport matplotlib.pyplot as plt\\nfrom flask import Flask, request, jsonify\\n\\nclass CollectibleAppraisalService:\\n    CONDITION_PRICING = {\\n        'Mint': 1.2,\\n        'Good': 1.0,\\n        'Fair': 0.8,\\n        'Poor': 0.5\\n    }\\n\\n    def __init__(self, amazon_access_key, amazon_secret_key, amazon_associate_tag, region='US'):\\n        self.amazon = AmazonAPI(amazon_access_key, amazon_secret_key, amazon_associate_tag, region)\\n\\n    def perform_market_analysis(self, item_name, condition, min_price=None, max_price=None, per_page=1, location=None, timeframe=None):\\n        product_info = hicollectors.getProducts(query=item_name, per_page=per_page, min_price=min_price, max_price=max_price)\\n        base_price = product_info['average_price']\\n        condition_multiplier = self.CONDITION_PRICING.get(condition, 1.0)\\n        estimated_value = base_price * condition_multiplier\\n        trends_data = googletrends.getTrends(search_word=item_name, location=location, timeframe=timeframe)\\n        popularity_score = trends_data['interest_over_time'][-1]\\n        amazon_products = self.amazon.search_n(1, Keywords=item_name, SearchIndex='Collectibles')\\n        amazon_price = amazon_products[0].price_and_currency[0] if amazon_products else 0\\n        estimated_value = (base_price + amazon_price) / 2 * condition_multiplier\\n        result = {\\n            'estimated_value': estimated_value,\\n            'popularity_score': popularity_score\\n        }\\n        return result\\n\\n    def create_interactive_visualization(self, items_with_values_and_trends):\\n        names = [item['name'] for item in items_with_values_and_trends]\\n        estimated_values = [item['estimated_value'] for item in items_with_values_and_trends]\\n        popularity_scores = [item['popularity_score'] for item in items_with_values_and_trends]\\n        df = pd.DataFrame({\\n            'Name': names,\\n            'Estimated Value': estimated_values,\\n            'Popularity Score': popularity_scores\\n        })\\n        fig = px.scatter(df, x='Estimated Value', y='Popularity Score', text='Name', title='Market Analysis')\\n        fig.update_traces(textposition='top center')\\n        fig.show()\\n\\n    def appraise(self, form_object):\\n        items_with_values_and_trends = []\\n        for item in form_object:\\n            item_name = item['name']\\n            condition = item['condition']\\n            analysis_result = self.perform_market_analysis(item_name, condition, location='US', timeframe='2021-01-01 2021-12-31')\\n            item['estimated_value'] = analysis_result['estimated_value']\\n            item['popularity_score'] = analysis_result['popularity_score']\\n            items_with_values_and_trends.append(item)\\n        self.create_interactive_visualization(items_with_values_and_trends)\\n        return items_with_values_and_trends\\n\\n    def generate_appraisal_table(self, form_data):\\n        market_analysis = '$40 - $60'\\n        suggested_listing_price = '$40 - $60 per item'\\n        appraisal_table = []\\n        for item in form_data['items']:\\n            appraisal_table.append((item['name'], item['condition'], market_analysis, suggested_listing_price))\\n        return appraisal_table\\n\\n    def create_exhibit(self, appraisal_table):\\n        show = {'appraisal_table': appraisal_table}\\n        presentation = 'Detailed Appraisal Report:\\n' + '\\n'.join([str(row) for row in appraisal_table])\\n        tell = {'simplified_appraisal': 'Simplified summary of the appraisal', 'extensive_appraisal': presentation}\\n        return {'exhibit': {'show': show, 'tell': tell}}\\n\\napp = Flask(__name__)\\nappraisal_service = CollectibleAppraisalService(amazon_access_key='YOUR_ACCESS_KEY', amazon_secret_key='YOUR_SECRET_KEY', amazon_associate_tag='YOUR_ASSOCIATE_TAG')\\n\\n@app.route('/appraise', methods=['POST'])\\ndef appraise():\\n    form_object = request.json['items']\\n    result = appraisal_service.appraise(form_object)\\n    return jsonify(result)\\n\\n@app.route('/appraise_collection', methods=['POST'])\\ndef appraise_collection():\\n    form_data = request.json\\n    appraisal_table = appraisal_service.generate_appraisal_table(form_data)\\n    exhibit_object = appraisal_service.create_exhibit(appraisal_table)\\n    return jsonify(exhibit_object)\\n\\nif __name__ == '__main__':\\n    app.run(debug=True)\\n",
      "outputs": []
    }
  ]
}