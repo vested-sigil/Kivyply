{
  "nbformat": 4,
  "nbformat_minor": 5,
  "metadata": {
    "noteable-chatgpt": {
      "create_notebook": {
        "openai_conversation_id": "8fe909f9-7b0a-5db1-aa07-50e65da76e9b",
        "openai_ephemeral_user_id": "31ee477a-dc9c-5d2d-90d9-7f32f4a95eec",
        "openai_subdivision1_iso_code": "US-MO"
      }
    },
    "selected_hardware_size": "small",
    "kernel_info": {
      "name": "python3"
    },
    "kernelspec": {
      "display_name": "Python 3.9",
      "identifier": "legacy",
      "language": "python",
      "language_version": "3.9",
      "name": "python3"
    }
  },
  "cells": [
    {
      "id": "7111defe-cf0e-4c2a-b3a0-c6a07c02b9e2",
      "cell_type": "code",
      "metadata": {
        "jupyter": {
          "outputs_hidden": false,
          "source_hidden": false
        },
        "noteable": {
          "cell_type": "code",
          "output_collection_id": "cf8f8a54-99da-4354-bdc7-ceb7f14114bc"
        },
        "ExecuteTime": {
          "end_time": "2023-12-13T21:36:27.913706+00:00",
          "start_time": "2023-12-13T21:36:25.175176+00:00"
        }
      },
      "execution_count": null,
      "source": "!pip install python-dotenv",
      "outputs": []
    },
    {
      "id": "86ec1390-4274-484c-8485-3edc39a4fc4c",
      "cell_type": "code",
      "metadata": {
        "jupyter": {
          "outputs_hidden": false,
          "source_hidden": false
        },
        "noteable": {
          "cell_type": "code",
          "output_collection_id": "f25ebcaa-554c-46c6-9a10-716dac7cfd62"
        },
        "ExecuteTime": {
          "end_time": "2023-12-13T21:38:03.738909+00:00",
          "start_time": "2023-12-13T21:38:03.558778+00:00"
        }
      },
      "execution_count": null,
      "source": "import b4API\n",
      "outputs": []
    },
    {
      "id": "2e696646-96ba-4103-984d-8d7d648d0d1f",
      "cell_type": "code",
      "metadata": {
        "noteable": {
          "cell_type": "code",
          "output_collection_id": "46124c12-b287-47dc-84fb-e27d34b4f637"
        },
        "ExecuteTime": {
          "end_time": "2023-12-14T02:27:48.983604+00:00",
          "start_time": "2023-12-14T02:27:48.626329+00:00"
        }
      },
      "execution_count": null,
      "source": "import requests\nfrom config import Config\n\n# Importing b4API.py functions\nfrom b4API import create_object, read_objects, update_object, delete_object\n\n# Example usage of b4API.py functions\n\n# Define the class name\nclass_name = \"Task\"\n\n# Define any query parameters if needed, for example:\nquery = {}\n\n# Call the read_objects function\nresponse = read_objects(class_name, query, Config.HEADERS_AUTOPROMPTER)\n\n# Print the response\nprint(response)",
      "outputs": []
    }
  ]
}