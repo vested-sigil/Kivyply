{
  "nbformat": 4,
  "nbformat_minor": 5,
  "metadata": {
    "noteable-chatgpt": {
      "create_notebook": {
        "openai_conversation_id": "cd76709e-f97f-59bd-9173-9ba3da5d4d6d",
        "openai_ephemeral_user_id": "092345ad-d2cf-5086-b238-469c3d332c6b"
      }
    },
    "noteable": {
      "last_transaction_id": "e72047d7-587c-443b-9f41-6ac8a4c6dc4a"
    }
  },
  "cells": [
    {
      "id": "c712934c-6bd7-43e2-b175-42788d123fe5",
      "cell_type": "code",
      "metadata": {
        "jupyter": {
          "outputs_hidden": false,
          "source_hidden": false
        },
        "noteable": {
          "cell_type": "code"
        }
      },
      "execution_count": null,
      "source": "",
      "outputs": []
    },
    {
      "id": "69f08d98-45df-4852-9678-5d906aa44fb9",
      "cell_type": "code",
      "metadata": {
        "jupyter": {
          "outputs_hidden": false,
          "source_hidden": false
        },
        "noteable": {
          "cell_type": "code"
        }
      },
      "execution_count": null,
      "source": "",
      "outputs": []
    },
    {
      "id": "27fa0df5-7681-4653-a91e-70c9d12b74e1",
      "cell_type": "code",
      "metadata": {
        "jupyter": {
          "outputs_hidden": false,
          "source_hidden": false
        },
        "noteable": {
          "cell_type": "code"
        }
      },
      "execution_count": null,
      "source": "",
      "outputs": []
    }
  ]
}