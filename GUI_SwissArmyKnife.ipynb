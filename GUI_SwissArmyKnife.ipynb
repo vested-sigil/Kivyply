{
  "nbformat": 4,
  "nbformat_minor": 5,
  "metadata": {
    "noteable-chatgpt": {
      "create_notebook": {
        "openai_conversation_id": "2155c257-5669-51db-b278-ebd053951fd9",
        "openai_ephemeral_user_id": "675db127-61ff-5c1e-a826-3dd67483d12a"
      }
    },
    "noteable": {
      "last_transaction_id": "71da4900-9c88-417a-9cf7-ac8f3574236f"
    },
    "selected_hardware_size": "small"
  },
  "cells": [
    {
      "id": "d2c840a1-e7be-4922-aa25-70c8e9f881d9",
      "cell_type": "code",
      "metadata": {
        "noteable": {
          "cell_type": "code",
          "output_collection_id": "69d59a79-c94b-4511-9148-0a5b17bdbd7a"
        },
        "ExecuteTime": {
          "end_time": "2023-07-07T05:01:27.451959+00:00",
          "start_time": "2023-07-07T05:01:18.486105+00:00"
        }
      },
      "execution_count": null,
      "source": "",
      "outputs": []
    }
  ]
}