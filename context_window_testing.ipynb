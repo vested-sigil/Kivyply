{
  "nbformat": 4,
  "nbformat_minor": 5,
  "metadata": {
    "noteable-chatgpt": {
      "create_notebook": {
        "openai_conversation_id": "febb56f9-c830-5495-b644-58848fc1f5f2",
        "openai_ephemeral_user_id": "9c405897-4da4-5612-bdf7-7353f22f68ac"
      }
    },
    "noteable": {
      "last_transaction_id": "a5b64575-7f0b-4691-9790-73331a755987"
    }
  },
  "cells": [
    {
      "id": "1cd01322-3b8f-44e8-a3a4-684cd396e6f6",
      "cell_type": "code",
      "metadata": {
        "noteable": {
          "cell_type": "code",
          "output_collection_id": "1d426cbb-efe1-405b-990c-88c63e9e1be8"
        },
        "ExecuteTime": {
          "end_time": "2023-07-06T03:06:20.098027+00:00",
          "start_time": "2023-07-06T03:06:19.912720+00:00"
        }
      },
      "execution_count": null,
      "source": "from torchtext.legacy import data, datasets\nimport torch\n\n# Define the fields associated with the sequences.\nTEXT = data.Field(tokenize = 'spacy', tokenizer_language = 'en_core_web_sm')\nLABEL = data.LabelField(dtype = torch.float)\n\n# Load the IMDB dataset\ntrain_data, test_data = datasets.IMDB.splits(TEXT, LABEL)\n\nprint(f'Number of training examples: {len(train_data)}')\nprint(f'Number of testing examples: {len(test_data)}')",
      "outputs": []
    },
    {
      "id": "b363698e-d14b-47a2-831f-987b35b064fd",
      "cell_type": "code",
      "metadata": {
        "noteable": {
          "cell_type": "code",
          "output_collection_id": "ba9fb191-2fa9-4032-9fdb-b90b1d4c85c4"
        },
        "ExecuteTime": {
          "end_time": "2023-07-06T03:04:44.965440+00:00",
          "start_time": "2023-07-06T03:02:42.823531+00:00"
        }
      },
      "execution_count": null,
      "source": "!pip install torchtext",
      "outputs": []
    },
    {
      "id": "3612d8f3-f2f8-438e-b154-a6c9e4b7a6e3",
      "cell_type": "code",
      "metadata": {
        "noteable": {
          "cell_type": "code",
          "output_collection_id": "9566770d-3f7a-48a2-b559-3330841f5b8f"
        },
        "ExecuteTime": {
          "end_time": "2023-07-06T03:06:06.161910+00:00",
          "start_time": "2023-07-06T03:06:01.563617+00:00"
        }
      },
      "execution_count": null,
      "source": "!pip install --upgrade torchtext",
      "outputs": []
    },
    {
      "id": "c60a4dbc-cc1b-4160-b750-8d0a70e2917e",
      "cell_type": "code",
      "metadata": {
        "noteable": {
          "cell_type": "code",
          "output_collection_id": "1a73ef3f-b919-404d-b6a0-ec34934868b4"
        },
        "ExecuteTime": {
          "end_time": "2023-07-06T03:07:30.595995+00:00",
          "start_time": "2023-07-06T03:06:53.150974+00:00"
        }
      },
      "execution_count": null,
      "source": "!pip install torchtext==0.9.0",
      "outputs": []
    }
  ]
}