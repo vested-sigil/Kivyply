{
  "nbformat": 4,
  "nbformat_minor": 5,
  "metadata": {
    "noteable-chatgpt": {
      "create_notebook": {
        "openai_conversation_id": "cd76709e-f97f-59bd-9173-9ba3da5d4d6d",
        "openai_ephemeral_user_id": "092345ad-d2cf-5086-b238-469c3d332c6b"
      }
    },
    "noteable": {
      "last_transaction_id": "77d768d7-427c-4500-aef7-61306d49d6f8"
    },
    "selected_hardware_size": "small"
  },
  "cells": [
    {
      "id": "3795f4a6-5962-4569-9ef6-d447f1bffc99",
      "cell_type": "code",
      "metadata": {
        "noteable": {
          "cell_type": "code",
          "output_collection_id": "bcc71b63-dd7b-46f1-9228-ec7249c76639"
        },
        "ExecuteTime": {
          "end_time": "2023-07-12T09:39:13.364155+00:00",
          "start_time": "2023-07-12T09:39:06.176345+00:00"
        }
      },
      "execution_count": null,
      "source": "!pip install -q zipfile36\nimport zipfile\nimport os\nfrom urllib.request import urlretrieve\nzip_url = 'https://app.noteable.io/f/13a6db43-5b60-41a2-88c2-a78f10831deb/sort.zip'\nzip_path = 'sort.zip'\nurlretrieve(zip_url, zip_path)\nwith zipfile.ZipFile(zip_path, 'r') as zip_ref:\n    zip_ref.extractall('.')\nos.remove(zip_path)",
      "outputs": []
    }
  ]
}